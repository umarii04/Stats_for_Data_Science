{
 "cells": [
  {
   "cell_type": "code",
   "execution_count": null,
   "id": "a647fa43",
   "metadata": {},
   "outputs": [],
   "source": [
    "import pandas as pd\n",
    "import numpy as np\n",
    "import matplotlib.pyplot as plt\n",
    "import seaborn as sns\n",
    "\n",
    "from scipy import stats\n",
    "import statsmodels.api as sm\n",
    "from statsmodels.formula.api import ols\n",
    "from statsmodels.multivariate.manova import MANOVA\n",
    "\n",
    "# CHI-square test applied to categorical data:"
   ]
  },
  {
   "cell_type": "markdown",
   "id": "e3543cff",
   "metadata": {},
   "source": [
    "# CHI-Squared test statement:\n",
    "hm ye axpect kr rhy hn k 50% log vegitarian aur 50$ log non-vegitarian hn\\\n",
    "agar is me koi difference ha to hm usko chi-squared test se check krna hn"
   ]
  },
  {
   "cell_type": "code",
   "execution_count": 8,
   "metadata": {},
   "outputs": [
    {
     "name": "stdout",
     "output_type": "stream",
     "text": [
      "Chi-squared Statistic: 16.0\n",
      "P-value: 6.334248366623988e-05\n",
      "Reject the null hypothesis: There is a significant difference in the proportions of vegetarians and non-vegetarians.\n"
     ]
    }
   ],
   "source": [
    "from scipy.stats import chisquare\n",
    "\n",
    "# hypothetical observeed frequencies::\n",
    "observed = np.array([30, 70]) # vegitarian 30%, non-vegitarian 70%\n",
    "# hypothetical expected frequencies::\n",
    "expected = np.array([50, 50]) # 50% vegitarian, 50% non-vegitarian\n",
    "# chi-squared test::\n",
    "chi2_stat, p_value = chisquare(observed, expected)\n",
    "print(f\"Chi-squared Statistic: {chi2_stat}\")\n",
    "print(f\"P-value: {p_value}\")\n",
    "# print using  if statement else statement::\n",
    "if p_value < 0.05:\n",
    "    print(\"Reject the null hypothesis: There is a significant difference in the proportions of vegetarians and non-vegetarians.\")\n",
    "else:\n",
    "    print(\"Fail to reject the null hypothesis: There is no significant difference in the proportions of vegetarians and non-vegetarians.\")"
   ]
  },
  {
   "cell_type": "markdown",
   "id": "bda72549",
   "metadata": {},
   "source": [
    "# Contingency table:"
   ]
  },
  {
   "cell_type": "code",
   "execution_count": null,
   "id": "71aece18",
   "metadata": {},
   "outputs": [
    {
     "data": {
      "text/html": [
       "<div>\n",
       "<style scoped>\n",
       "    .dataframe tbody tr th:only-of-type {\n",
       "        vertical-align: middle;\n",
       "    }\n",
       "\n",
       "    .dataframe tbody tr th {\n",
       "        vertical-align: top;\n",
       "    }\n",
       "\n",
       "    .dataframe thead th {\n",
       "        text-align: right;\n",
       "    }\n",
       "</style>\n",
       "<table border=\"1\" class=\"dataframe\">\n",
       "  <thead>\n",
       "    <tr style=\"text-align: right;\">\n",
       "      <th></th>\n",
       "      <th>total_bill</th>\n",
       "      <th>tip</th>\n",
       "      <th>sex</th>\n",
       "      <th>smoker</th>\n",
       "      <th>day</th>\n",
       "      <th>time</th>\n",
       "      <th>size</th>\n",
       "    </tr>\n",
       "  </thead>\n",
       "  <tbody>\n",
       "    <tr>\n",
       "      <th>0</th>\n",
       "      <td>16.99</td>\n",
       "      <td>1.01</td>\n",
       "      <td>Female</td>\n",
       "      <td>No</td>\n",
       "      <td>Sun</td>\n",
       "      <td>Dinner</td>\n",
       "      <td>2</td>\n",
       "    </tr>\n",
       "    <tr>\n",
       "      <th>1</th>\n",
       "      <td>10.34</td>\n",
       "      <td>1.66</td>\n",
       "      <td>Male</td>\n",
       "      <td>No</td>\n",
       "      <td>Sun</td>\n",
       "      <td>Dinner</td>\n",
       "      <td>3</td>\n",
       "    </tr>\n",
       "    <tr>\n",
       "      <th>2</th>\n",
       "      <td>21.01</td>\n",
       "      <td>3.50</td>\n",
       "      <td>Male</td>\n",
       "      <td>No</td>\n",
       "      <td>Sun</td>\n",
       "      <td>Dinner</td>\n",
       "      <td>3</td>\n",
       "    </tr>\n",
       "    <tr>\n",
       "      <th>3</th>\n",
       "      <td>23.68</td>\n",
       "      <td>3.31</td>\n",
       "      <td>Male</td>\n",
       "      <td>No</td>\n",
       "      <td>Sun</td>\n",
       "      <td>Dinner</td>\n",
       "      <td>2</td>\n",
       "    </tr>\n",
       "    <tr>\n",
       "      <th>4</th>\n",
       "      <td>24.59</td>\n",
       "      <td>3.61</td>\n",
       "      <td>Female</td>\n",
       "      <td>No</td>\n",
       "      <td>Sun</td>\n",
       "      <td>Dinner</td>\n",
       "      <td>4</td>\n",
       "    </tr>\n",
       "  </tbody>\n",
       "</table>\n",
       "</div>"
      ],
      "text/plain": [
       "   total_bill   tip     sex smoker  day    time  size\n",
       "0       16.99  1.01  Female     No  Sun  Dinner     2\n",
       "1       10.34  1.66    Male     No  Sun  Dinner     3\n",
       "2       21.01  3.50    Male     No  Sun  Dinner     3\n",
       "3       23.68  3.31    Male     No  Sun  Dinner     2\n",
       "4       24.59  3.61  Female     No  Sun  Dinner     4"
      ]
     },
     "execution_count": 10,
     "metadata": {},
     "output_type": "execute_result"
    }
   ],
   "source": [
    "from scipy.stats import chi2_contingency\n",
    "\n",
    "df = sns.load_dataset(\"tips\")\n",
    "df.head()\n",
    "# applied to categorical data:"
   ]
  },
  {
   "cell_type": "code",
   "execution_count": 22,
   "id": "6e48dcae",
   "metadata": {},
   "outputs": [
    {
     "data": {
      "text/html": [
       "<div>\n",
       "<style scoped>\n",
       "    .dataframe tbody tr th:only-of-type {\n",
       "        vertical-align: middle;\n",
       "    }\n",
       "\n",
       "    .dataframe tbody tr th {\n",
       "        vertical-align: top;\n",
       "    }\n",
       "\n",
       "    .dataframe thead th {\n",
       "        text-align: right;\n",
       "    }\n",
       "</style>\n",
       "<table border=\"1\" class=\"dataframe\">\n",
       "  <thead>\n",
       "    <tr style=\"text-align: right;\">\n",
       "      <th>smoker</th>\n",
       "      <th>Yes</th>\n",
       "      <th>No</th>\n",
       "    </tr>\n",
       "    <tr>\n",
       "      <th>sex</th>\n",
       "      <th></th>\n",
       "      <th></th>\n",
       "    </tr>\n",
       "  </thead>\n",
       "  <tbody>\n",
       "    <tr>\n",
       "      <th>Male</th>\n",
       "      <td>60</td>\n",
       "      <td>97</td>\n",
       "    </tr>\n",
       "    <tr>\n",
       "      <th>Female</th>\n",
       "      <td>33</td>\n",
       "      <td>54</td>\n",
       "    </tr>\n",
       "  </tbody>\n",
       "</table>\n",
       "</div>"
      ],
      "text/plain": [
       "smoker  Yes  No\n",
       "sex            \n",
       "Male     60  97\n",
       "Female   33  54"
      ]
     },
     "execution_count": 22,
     "metadata": {},
     "output_type": "execute_result"
    }
   ],
   "source": [
    "# contingency table:\n",
    "contingency_table = pd.crosstab(df['sex'], df['smoker']) # sex ki base pr smoking me koi fark parta ha ya nai\n",
    "contingency_table\n"
   ]
  },
  {
   "cell_type": "code",
   "execution_count": 23,
   "metadata": {},
   "outputs": [
    {
     "name": "stdout",
     "output_type": "stream",
     "text": [
      "Chi-squared Statistic: 0.0\n",
      "P-value: 1.0\n",
      "Degrees of Freedom: 1\n",
      "Expected Frequencies:\n",
      "[[59.84016393 97.15983607]\n",
      " [33.15983607 53.84016393]]\n",
      "Fail to reject the null hypothesis: There is no significant association between sex and smoking status.\n"
     ]
    }
   ],
   "source": [
    "# perform chi-squared test:\n",
    "chi2_stat, p_value, dof, expected = chi2_contingency(contingency_table)\n",
    "print(f\"Chi-squared Statistic: {chi2_stat}\")\n",
    "print(f\"P-value: {p_value}\")\n",
    "print(f\"Degrees of Freedom: {dof}\")\n",
    "print(f\"Expected Frequencies:\\n{expected}\")\n",
    "\n",
    "# print using  if statement else statement::\n",
    "if p_value < 0.05:\n",
    "    print(\"Reject the null hypothesis: There is a significant association between sex and smoking status.\")\n",
    "else:\n",
    "    print(\"Fail to reject the null hypothesis: There is no significant association between sex and smoking status.\")"
   ]
  },
  {
   "cell_type": "code",
   "execution_count": 19,
   "id": "e3a83411",
   "metadata": {},
   "outputs": [
    {
     "data": {
      "text/html": [
       "<div>\n",
       "<style scoped>\n",
       "    .dataframe tbody tr th:only-of-type {\n",
       "        vertical-align: middle;\n",
       "    }\n",
       "\n",
       "    .dataframe tbody tr th {\n",
       "        vertical-align: top;\n",
       "    }\n",
       "\n",
       "    .dataframe thead th {\n",
       "        text-align: right;\n",
       "    }\n",
       "</style>\n",
       "<table border=\"1\" class=\"dataframe\">\n",
       "  <thead>\n",
       "    <tr style=\"text-align: right;\">\n",
       "      <th>time</th>\n",
       "      <th>Lunch</th>\n",
       "      <th>Dinner</th>\n",
       "    </tr>\n",
       "    <tr>\n",
       "      <th>sex</th>\n",
       "      <th></th>\n",
       "      <th></th>\n",
       "    </tr>\n",
       "  </thead>\n",
       "  <tbody>\n",
       "    <tr>\n",
       "      <th>Male</th>\n",
       "      <td>33</td>\n",
       "      <td>124</td>\n",
       "    </tr>\n",
       "    <tr>\n",
       "      <th>Female</th>\n",
       "      <td>35</td>\n",
       "      <td>52</td>\n",
       "    </tr>\n",
       "  </tbody>\n",
       "</table>\n",
       "</div>"
      ],
      "text/plain": [
       "time    Lunch  Dinner\n",
       "sex                  \n",
       "Male       33     124\n",
       "Female     35      52"
      ]
     },
     "execution_count": 19,
     "metadata": {},
     "output_type": "execute_result"
    }
   ],
   "source": [
    "# contingency table:\n",
    "contingency_table2 = pd.crosstab(df['sex'], df['time']) # sex ki base pr time dekhy gy k dinner me male and female koi fark parta ha ya nai\n",
    "contingency_table2\n"
   ]
  },
  {
   "cell_type": "code",
   "execution_count": 21,
   "id": "ecad50a1",
   "metadata": {},
   "outputs": [
    {
     "name": "stdout",
     "output_type": "stream",
     "text": [
      "Chi-squared Statistic: 9.343808982970623\n",
      "P-value: 0.002237400118075248\n",
      "Degrees of Freedom: 1\n",
      "Expected Frequencies:\n",
      "[[ 43.75409836 113.24590164]\n",
      " [ 24.24590164  62.75409836]]\n",
      "Reject the null hypothesis: There is a significant association between sex and time.\n"
     ]
    }
   ],
   "source": [
    "# chi-squared test using statsmodels::\n",
    "chi2_stat, p_value, dof, expected = chi2_contingency(contingency_table2)\n",
    "print(f\"Chi-squared Statistic: {chi2_stat}\")\n",
    "print(f\"P-value: {p_value}\")\n",
    "print(f\"Degrees of Freedom: {dof}\")\n",
    "print(f\"Expected Frequencies:\\n{expected}\")\n",
    "# print using  if statement else statement::\n",
    "if p_value < 0.05:\n",
    "    print(\"Reject the null hypothesis: There is a significant association between sex and time.\")\n",
    "else:\n",
    "    print(\"Fail to reject the null hypothesis: There is no significant association between sex and time.\")"
   ]
  }
 ],
 "metadata": {
  "kernelspec": {
   "display_name": "python_ml",
   "language": "python",
   "name": "python3"
  },
  "language_info": {
   "codemirror_mode": {
    "name": "ipython",
    "version": 3
   },
   "file_extension": ".py",
   "mimetype": "text/x-python",
   "name": "python",
   "nbconvert_exporter": "python",
   "pygments_lexer": "ipython3",
   "version": "3.13.2"
  }
 },
 "nbformat": 4,
 "nbformat_minor": 5
}
