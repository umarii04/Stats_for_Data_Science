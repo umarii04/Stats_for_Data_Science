{
 "cells": [
  {
   "cell_type": "markdown",
   "id": "1733aace",
   "metadata": {},
   "source": [
    "### T-Test ko istemal krny k liye yaad rhy sample size 30% se kam hona chahye\n",
    "### Agar sample size 30% se ziada ha to z-test lgy ga"
   ]
  },
  {
   "cell_type": "markdown",
   "id": "408c7dea",
   "metadata": {},
   "source": [
    "1. One sample t_test: \\\n",
    "Is me kisi aik value ko kisi aur non_value k sath compare krty hn.."
   ]
  },
  {
   "cell_type": "code",
   "execution_count": null,
   "id": "951d2d8c",
   "metadata": {},
   "outputs": [
    {
     "name": "stdout",
     "output_type": "stream",
     "text": [
      "T_statistics: 0.0\n",
      "p_value: 1.0\n"
     ]
    }
   ],
   "source": [
    "import scipy.stats as stats\n",
    "# sample Data:\n",
    "x= [1,2,3,4,5]\n",
    "# known population mean:\n",
    "mu = 3\n",
    "t_stats, p_value = stats.ttest_1samp(x,mu)\n",
    "print(\"T_statistics:\", t_stats)\n",
    "print(\"p_value:\", p_value)\n",
    "# jab value 3 hogi:\n",
    "# matlab k jo mean population ka wohi mean sample ha no change, H0 hypothesis is true"
   ]
  },
  {
   "cell_type": "code",
   "execution_count": 3,
   "metadata": {},
   "outputs": [
    {
     "name": "stdout",
     "output_type": "stream",
     "text": [
      "T_statistics: -5.65685424949238\n",
      "p_value: 0.004812678330044227\n"
     ]
    }
   ],
   "source": [
    "import scipy.stats as stats\n",
    "# sample Data:\n",
    "x= [1,2,3,4,5]\n",
    "# known population mean:\n",
    "mu = 7\n",
    "t_stats, p_value = stats.ttest_1samp(x,mu)\n",
    "print(\"T_statistics:\", t_stats)\n",
    "print(\"p_value:\", p_value)\n",
    "# jab value change kr k 7 krein to foran p_value 0.05 se kam ho jai gi means sample mean is not equal to population mean\n",
    "# matlab k jo mean population ka wohi mean sample ha no change, H0 hypothesis is true"
   ]
  },
  {
   "cell_type": "markdown",
   "id": "36a6e85f",
   "metadata": {},
   "source": [
    "# 2. Two Sample T-Test:\n",
    "ye independent  t-test ha is me 2 independent values ko ly k chalna hota ha"
   ]
  },
  {
   "cell_type": "code",
   "execution_count": 9,
   "metadata": {},
   "outputs": [
    {
     "name": "stdout",
     "output_type": "stream",
     "text": [
      "T_statistics: -5.0\n",
      "p_value: 0.001052825793366539\n",
      "Group1 mean not equal to Group2 mean 'reject null hypothesis'\n"
     ]
    }
   ],
   "source": [
    "group1 = [1,2,3,4,5]\n",
    "group2 = [6,7,8,9,10]\n",
    "# in donon groups ka apas me farak dekhna hota \n",
    "t_stats, p = stats.ttest_ind(group1,group2)\n",
    "print(\"T_statistics:\", t_stats)\n",
    "print(\"p_value:\", p)\n",
    "\n",
    "# print results using if else:\n",
    "if p > 0.05:\n",
    "    print(\"Group1 mean equal to Group2 mean 'failed reject null hypothesis'\")\n",
    "else:\n",
    "    print(\"Group1 mean not equal to Group2 mean 'reject null hypothesis'\")"
   ]
  },
  {
   "cell_type": "markdown",
   "id": "a5feeba9",
   "metadata": {},
   "source": [
    "# 3. Paired Sample T-Test:\n",
    "aik hi cheez ko 2 dafa measure krty hn before and after some time"
   ]
  },
  {
   "cell_type": "code",
   "execution_count": 10,
   "id": "0d91d710",
   "metadata": {},
   "outputs": [
    {
     "name": "stdout",
     "output_type": "stream",
     "text": [
      "T_statistics: -inf\n",
      "p_value: 0.0\n",
      "Before mean not equal to After mean 'reject null hypothesis'\n"
     ]
    },
    {
     "name": "stderr",
     "output_type": "stream",
     "text": [
      "c:\\Users\\pc\\miniconda3\\envs\\python_ml\\Lib\\site-packages\\scipy\\stats\\_axis_nan_policy.py:430: RuntimeWarning: Precision loss occurred in moment calculation due to catastrophic cancellation. This occurs when the data are nearly identical. Results may be unreliable.\n",
      "  return hypotest_fun_in(*args, **kwds)\n"
     ]
    }
   ],
   "source": [
    "before = [1,2,3,4,5]\n",
    "after = [6,7,8,9,10]\n",
    "t_stats, p = stats.ttest_rel(before,after)  # rel ka matlab relation k in donon me change aya k nai\n",
    "print(\"T_statistics:\", t_stats)\n",
    "print(\"p_value:\", p)\n",
    "\n",
    "# print results using if else:\n",
    "if p > 0.05:\n",
    "    print(\"Before mean equal to After mean 'failed reject null hypothesis'\")\n",
    "else:\n",
    "    print(\"Before mean not equal to After mean 'reject null hypothesis'\")"
   ]
  },
  {
   "cell_type": "code",
   "execution_count": null,
   "metadata": {},
   "outputs": [],
   "source": []
  }
 ],
 "metadata": {
  "kernelspec": {
   "display_name": "python_ml",
   "language": "python",
   "name": "python3"
  },
  "language_info": {
   "codemirror_mode": {
    "name": "ipython",
    "version": 3
   },
   "file_extension": ".py",
   "mimetype": "text/x-python",
   "name": "python",
   "nbconvert_exporter": "python",
   "pygments_lexer": "ipython3",
   "version": "3.13.2"
  }
 },
 "nbformat": 4,
 "nbformat_minor": 5
}
