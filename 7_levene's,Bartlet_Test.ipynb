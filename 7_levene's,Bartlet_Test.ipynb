{
 "cells": [
  {
   "cell_type": "markdown",
   "id": "578ae066",
   "metadata": {},
   "source": [
    "# LEVENE's TEST:\n",
    "it is used to check the homogenity of the data"
   ]
  },
  {
   "cell_type": "code",
   "execution_count": 9,
   "id": "62ccdbda",
   "metadata": {},
   "outputs": [
    {
     "name": "stdout",
     "output_type": "stream",
     "text": [
      "3.5749287788116866\n",
      "0.09531608142670009\n",
      "The data is normally distributed (Failed to reject H0)\n"
     ]
    }
   ],
   "source": [
    "import scipy.stats as stats\n",
    "\n",
    "group1 = [1, 2, -3, -4, -5]\n",
    "group2 = [2685, 43, 5003, 800, 1000]\n",
    "\n",
    "w_stat , p_val = stats.levene(group1,group2)\n",
    "\n",
    "print(w_stat)\n",
    "print(p_val)\n",
    "\n",
    "# print results using if else:\n",
    "\n",
    "if p_val > 0.05:\n",
    "    print('The data is normally distributed (Failed to reject H0)')\n",
    "else:\n",
    "    print('The data is not normally distributed (reject H0)')"
   ]
  },
  {
   "cell_type": "markdown",
   "id": "03452e87",
   "metadata": {},
   "source": [
    "# BARTLETT TEST:\n",
    "to check the variance of the data\\\n",
    "agar H0 ko follow kry means k data donon same hn ya bht minor fark ha\\\n",
    "agar H1 follow ho matlab donon me fark ha"
   ]
  },
  {
   "cell_type": "code",
   "execution_count": 10,
   "id": "48c9f85e",
   "metadata": {},
   "outputs": [
    {
     "name": "stdout",
     "output_type": "stream",
     "text": [
      "47.89697664497104\n",
      "4.492137898971204e-12\n",
      "The data is not normally distributed (reject H0), H1 is accpeted\n"
     ]
    }
   ],
   "source": [
    "import scipy.stats as stats\n",
    "\n",
    "group1 = [1, 2, -3, -4, -5]\n",
    "group2 = [2685, 4123, 5003, 800, 1000]\n",
    "\n",
    "w_stat , p_val = stats.bartlett(group1,group2)\n",
    "\n",
    "print(w_stat)\n",
    "print(p_val)\n",
    "\n",
    "# print results using if else:\n",
    "\n",
    "if p_val > 0.05:\n",
    "    print('The data is normally distributed (Failed to reject H0)')\n",
    "else:\n",
    "    print('The data is not normally distributed (reject H0), H1 is accpeted')"
   ]
  }
 ],
 "metadata": {
  "kernelspec": {
   "display_name": "python_ml",
   "language": "python",
   "name": "python3"
  },
  "language_info": {
   "codemirror_mode": {
    "name": "ipython",
    "version": 3
   },
   "file_extension": ".py",
   "mimetype": "text/x-python",
   "name": "python",
   "nbconvert_exporter": "python",
   "pygments_lexer": "ipython3",
   "version": "3.13.2"
  }
 },
 "nbformat": 4,
 "nbformat_minor": 5
}
