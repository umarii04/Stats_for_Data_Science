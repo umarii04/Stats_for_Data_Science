{
 "cells": [
  {
   "cell_type": "markdown",
   "id": "c01a95f3",
   "metadata": {},
   "source": [
    "# ONE WAY ANOVA:\n",
    "jab hm ne 3 ya 3 se ziada means ko compare kr rhy hoty hn tb use hota ha vaiance ki base p\n",
    "## Analysis of variance"
   ]
  },
  {
   "cell_type": "code",
   "execution_count": 10,
   "id": "456fc39e",
   "metadata": {},
   "outputs": [
    {
     "name": "stdout",
     "output_type": "stream",
     "text": [
      "f_value: 17954.41212121212\n",
      "p_value: 1.389983725768045e-21\n",
      "H0 is rejected there is such difference between the means of a,b,c while H1 is accepted\n"
     ]
    }
   ],
   "source": [
    "import pandas as pd\n",
    "from scipy import stats\n",
    "\n",
    "# sample data:\n",
    "a = [1,2,3,4,5]\n",
    "b = [654,565,576,587,598]\n",
    "c = [2334,2345,2346,2347,2348]\n",
    "\n",
    "# perform one way ANOVA:\n",
    "f_stats, p_val = stats.f_oneway(a, b, c)\n",
    "\n",
    "print(\"f_value:\", f_stats)\n",
    "print(\"p_value:\", p_val)\n",
    "\n",
    "# print results using if else:\n",
    "if p_val > 0.05:\n",
    "    print(\"H0 is accepted there is no such difference between the means of a,b,c\")\n",
    "else:\n",
    "    print(\"H0 is rejected there is such difference between the means of a,b,c while H1 is accepted\")\n"
   ]
  },
  {
   "cell_type": "code",
   "execution_count": null,
   "metadata": {},
   "outputs": [],
   "source": []
  },
  {
   "cell_type": "code",
   "execution_count": null,
   "id": "9aa01181",
   "metadata": {},
   "outputs": [],
   "source": []
  }
 ],
 "metadata": {
  "kernelspec": {
   "display_name": "python_ml",
   "language": "python",
   "name": "python3"
  },
  "language_info": {
   "codemirror_mode": {
    "name": "ipython",
    "version": 3
   },
   "file_extension": ".py",
   "mimetype": "text/x-python",
   "name": "python",
   "nbconvert_exporter": "python",
   "pygments_lexer": "ipython3",
   "version": "3.13.2"
  }
 },
 "nbformat": 4,
 "nbformat_minor": 5
}
